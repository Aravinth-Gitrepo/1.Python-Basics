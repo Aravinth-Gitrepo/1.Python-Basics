{
 "cells": [
  {
   "cell_type": "code",
   "execution_count": 1,
   "metadata": {},
   "outputs": [
    {
     "name": "stdout",
     "output_type": "stream",
     "text": [
      "Welcome to Assignment-1\n"
     ]
    }
   ],
   "source": [
    "print('Welcome to Assignment-1')"
   ]
  },
  {
   "cell_type": "code",
   "execution_count": 1,
   "metadata": {},
   "outputs": [
    {
     "name": "stdout",
     "output_type": "stream",
     "text": [
      "Num1=10\n",
      "Num2=30\n",
      "Add = 40\n"
     ]
    }
   ],
   "source": [
    "Num1=int(input(\"Num1=\")) \n",
    "Num2= int(input(\"Num2=\"))\n",
    "#Add= 40\n",
    "\n",
    "Add=Num1+Num2\n",
    "#print('Num1=10')\n",
    "#print('Num2=30')\n",
    "print('Add =',Add)"
   ]
  },
  {
   "cell_type": "code",
   "execution_count": 4,
   "metadata": {},
   "outputs": [
    {
     "name": "stdout",
     "output_type": "stream",
     "text": [
      "Enter the BMI Index =15\n"
     ]
    }
   ],
   "source": [
    "BMI=int(input('Enter the BMI Index :'))"
   ]
  },
  {
   "cell_type": "code",
   "execution_count": 25,
   "metadata": {},
   "outputs": [
    {
     "name": "stdout",
     "output_type": "stream",
     "text": [
      "Enter the BMI Index =34\n",
      "Very Overweight\n"
     ]
    }
   ],
   "source": [
    "BMI=float(input('Enter the BMI Index :'))\n",
    "if BMI<18.5:\n",
    "    print('Underweight')\n",
    "elif BMI<=24.9:\n",
    "    print('normal weight')\n",
    "elif (BMI<=29.9):\n",
    "    print('overweight')\n",
    "else:\n",
    "    print('Very Overweight')"
   ]
  },
  {
   "cell_type": "code",
   "execution_count": null,
   "metadata": {},
   "outputs": [],
   "source": []
  },
  {
   "cell_type": "code",
   "execution_count": null,
   "metadata": {},
   "outputs": [],
   "source": []
  }
 ],
 "metadata": {
  "kernelspec": {
   "display_name": "Python 3",
   "language": "python",
   "name": "python3"
  },
  "language_info": {
   "codemirror_mode": {
    "name": "ipython",
    "version": 3
   },
   "file_extension": ".py",
   "mimetype": "text/x-python",
   "name": "python",
   "nbconvert_exporter": "python",
   "pygments_lexer": "ipython3",
   "version": "3.7.4"
  }
 },
 "nbformat": 4,
 "nbformat_minor": 2
}
