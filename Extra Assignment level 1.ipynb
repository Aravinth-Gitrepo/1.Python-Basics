{
 "cells": [
  {
   "cell_type": "code",
   "execution_count": 9,
   "metadata": {},
   "outputs": [
    {
     "name": "stdout",
     "output_type": "stream",
     "text": [
      "HOPE AI\n"
     ]
    }
   ],
   "source": [
    "#print statement\n",
    "\n",
    "print('HOPE AI')"
   ]
  },
  {
   "cell_type": "code",
   "execution_count": 10,
   "metadata": {},
   "outputs": [
    {
     "name": "stdout",
     "output_type": "stream",
     "text": [
      "Enter your institute name? :HOPE AI\n"
     ]
    }
   ],
   "source": [
    "# Buy input \n",
    "#Enter your institute name? : HOPE AI\n",
    "institutename=input('Enter your institute name? :')\n",
    "    "
   ]
  },
  {
   "cell_type": "code",
   "execution_count": 12,
   "metadata": {},
   "outputs": [
    {
     "name": "stdout",
     "output_type": "stream",
     "text": [
      "Enter your name:Raj\n",
      "Enter your age:15\n",
      "Enter your school name:Guru school\n",
      "Enter your drgree:B.E CSE\n"
     ]
    }
   ],
   "source": [
    "#buy inputs\n",
    "name=input('Enter your name:')\n",
    "age=input('Enter your age:')\n",
    "school=input('Enter your school name:')\n",
    "degree=input('Enter your drgree:')\n"
   ]
  },
  {
   "cell_type": "code",
   "execution_count": 3,
   "metadata": {},
   "outputs": [
    {
     "name": "stdout",
     "output_type": "stream",
     "text": [
      "a=43\n",
      "b=34\n",
      "add= 77\n"
     ]
    }
   ],
   "source": [
    "#addition\n",
    "#a=43\n",
    "#b=34\n",
    "a=int(input('a='))\n",
    "b=int(input('b='))\n",
    "add=a+b\n",
    "print('add=',add)"
   ]
  },
  {
   "cell_type": "code",
   "execution_count": 4,
   "metadata": {},
   "outputs": [
    {
     "name": "stdout",
     "output_type": "stream",
     "text": [
      "a=43\n",
      "b=34\n",
      "sub= 9\n"
     ]
    }
   ],
   "source": [
    "#subtraction\n",
    "#a=43\n",
    "#b=34\n",
    "a=int(input('a='))\n",
    "b=int(input('b='))\n",
    "sub=a-b\n",
    "print('sub=',sub)"
   ]
  },
  {
   "cell_type": "code",
   "execution_count": 5,
   "metadata": {},
   "outputs": [
    {
     "name": "stdout",
     "output_type": "stream",
     "text": [
      "a=63\n",
      "b=97\n",
      "Mul= 6111\n"
     ]
    }
   ],
   "source": [
    "#multiplication\n",
    "#a= 63\n",
    "#b= 97\n",
    "a=int(input('a='))\n",
    "b=int(input('b='))\n",
    "Mul=a*b\n",
    "print('Mul=',Mul)"
   ]
  },
  {
   "cell_type": "code",
   "execution_count": 6,
   "metadata": {},
   "outputs": [
    {
     "name": "stdout",
     "output_type": "stream",
     "text": [
      "a=76\n",
      "b=31\n",
      "Float Div= 2.4516129032258065\n"
     ]
    }
   ],
   "source": [
    "#division\n",
    "#a= 76\n",
    "#b= 31\n",
    "floatDiv=76/31\n",
    "a=int(input('a='))\n",
    "b=int(input('b='))\n",
    "print('Float Div=',floatDiv)\n"
   ]
  },
  {
   "cell_type": "code",
   "execution_count": 7,
   "metadata": {},
   "outputs": [
    {
     "name": "stdout",
     "output_type": "stream",
     "text": [
      "a=76\n",
      "b=31\n",
      "floorDiv = 2\n"
     ]
    }
   ],
   "source": [
    "#Floor division\n",
    "#a= 76\n",
    "#b= 31\n",
    "a=int(input('a='))\n",
    "b=int(input('b='))\n",
    "floorDiv=76//31\n",
    "print('floorDiv =',floorDiv)"
   ]
  },
  {
   "cell_type": "code",
   "execution_count": 8,
   "metadata": {},
   "outputs": [
    {
     "name": "stdout",
     "output_type": "stream",
     "text": [
      "a=76\n",
      "b=31\n",
      "Modulo = 14\n"
     ]
    }
   ],
   "source": [
    "#Modulo\n",
    "a= 76\n",
    "b= 31\n",
    "a=int(input('a='))\n",
    "b=int(input('b='))\n",
    "Modulo=76%31\n",
    "print('Modulo =',Modulo)\n"
   ]
  },
  {
   "cell_type": "code",
   "execution_count": 9,
   "metadata": {},
   "outputs": [
    {
     "name": "stdout",
     "output_type": "stream",
     "text": [
      "a=4\n",
      "b=4\n",
      "Power = 256\n"
     ]
    }
   ],
   "source": [
    "#power\n",
    "#a= 4\n",
    "#b= 4\n",
    "a=int(input('a='))\n",
    "b=int(input('b='))\n",
    "Power=pow(a,b)\n",
    "print('Power =',Power)"
   ]
  },
  {
   "cell_type": "code",
   "execution_count": null,
   "metadata": {},
   "outputs": [],
   "source": []
  },
  {
   "cell_type": "code",
   "execution_count": null,
   "metadata": {},
   "outputs": [],
   "source": []
  }
 ],
 "metadata": {
  "kernelspec": {
   "display_name": "Python 3",
   "language": "python",
   "name": "python3"
  },
  "language_info": {
   "codemirror_mode": {
    "name": "ipython",
    "version": 3
   },
   "file_extension": ".py",
   "mimetype": "text/x-python",
   "name": "python",
   "nbconvert_exporter": "python",
   "pygments_lexer": "ipython3",
   "version": "3.7.4"
  }
 },
 "nbformat": 4,
 "nbformat_minor": 2
}
