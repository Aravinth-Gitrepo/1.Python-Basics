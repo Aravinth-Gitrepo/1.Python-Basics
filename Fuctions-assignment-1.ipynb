{
 "cells": [
  {
   "cell_type": "code",
   "execution_count": 74,
   "metadata": {},
   "outputs": [
    {
     "name": "stdout",
     "output_type": "stream",
     "text": [
      "Sub-fields in AI are:\n",
      "Machine Learning\n",
      "Neural Networks\n",
      "Vision\n",
      "Robotics\n",
      "Speech Processing\n",
      "Natural Language Processing\n"
     ]
    }
   ],
   "source": [
    "# Create a class and function, and list out the items in the list\n",
    "#SubfieldsInAI.Subfields()\n",
    "#Sub-fields in AI are:\n",
    "#Machine Learning\n",
    "#Neural Networks\n",
    "#Vision\n",
    "#Robotics\n",
    "#Speech Processing\n",
    "#Natural Language Processing\n",
    "\n",
    "class SubfieldsInAI:\n",
    "    def Subfields():\n",
    "        print('Sub-fields in AI are:')\n",
    "        list=(\"Machine Learning\",\"Neural Networks\",\"Vision\",\"Robotics\",\"Speech Processing\",\"Natural Language Processing\")\n",
    "        for AI in list:\n",
    "            print(AI)\n",
    "        #print('Machine Learning')\n",
    "        #print('Neural Networks')\n",
    "        #print('Vision')\n",
    "        #print('Robotics')\n",
    "        #print('Speech Processing')\n",
    "        #print('Natural Language Processing')\n",
    "              \n",
    "SubfieldsInAI.Subfields()\n",
    "    "
   ]
  },
  {
   "cell_type": "code",
   "execution_count": 30,
   "metadata": {},
   "outputs": [
    {
     "name": "stdout",
     "output_type": "stream",
     "text": [
      "Enter a number:52452\n"
     ]
    },
    {
     "data": {
      "text/plain": [
       "(52452, 'is Even number')"
      ]
     },
     "execution_count": 30,
     "metadata": {},
     "output_type": "execute_result"
    }
   ],
   "source": [
    "# Create a function that checks whether the given number is Odd or Even\n",
    "#OddEven.OddEven()\n",
    "#Enter a number: 52452\n",
    "#52452 is Even number\n",
    "class oddEven:\n",
    "    def oddEven():\n",
    "        num=int(input(\"Enter a number:\"))\n",
    "        if num%2==0:\n",
    "            #print('is Even number')\n",
    "            message=num ,'is Even number'\n",
    "        else:\n",
    "            #print('is Odd number')\n",
    "            message=num ,'is Odd number'\n",
    "        return message\n",
    "oddEven.oddEven()"
   ]
  },
  {
   "cell_type": "code",
   "execution_count": 49,
   "metadata": {},
   "outputs": [
    {
     "name": "stdout",
     "output_type": "stream",
     "text": [
      "Your Gender:Male\n",
      "Your Age:20\n"
     ]
    },
    {
     "data": {
      "text/plain": [
       "'NOT ELIGIBLE'"
      ]
     },
     "execution_count": 49,
     "metadata": {},
     "output_type": "execute_result"
    }
   ],
   "source": [
    "# Create a function that tells elegibility of marriage for male and female \n",
    "#according to their age limit like 21 for male and 18 for female\n",
    "#Your Gender:Male\n",
    "#Your Age:20\n",
    "#NOT ELIGIBLE\n",
    "\n",
    "class ElegiblityForMarriage:\n",
    "    def Elegible():\n",
    "        gender=input('Your Gender:')\n",
    "        age=(int(input('Your Age:')))\n",
    "        if (gender=='Male' and age>=21):\n",
    "                message='Eligible'\n",
    "        elif (gender=='Female' and age>=18):\n",
    "                message='Eligible'\n",
    "        else:\n",
    "                message='NOT ELIGIBLE'\n",
    "        return message\n",
    "ElegiblityForMarriage.Elegible()\n",
    "        \n",
    "                \n",
    "    "
   ]
  },
  {
   "cell_type": "code",
   "execution_count": 72,
   "metadata": {},
   "outputs": [
    {
     "name": "stdout",
     "output_type": "stream",
     "text": [
      "Subject1=98\n",
      "Subject2=87\n",
      "Subject3=95\n",
      "Subject4=95\n",
      "Subject5=93\n",
      "Total: 468\n"
     ]
    },
    {
     "data": {
      "text/plain": [
       "('percentage:', '93.59999999999999')"
      ]
     },
     "execution_count": 72,
     "metadata": {},
     "output_type": "execute_result"
    }
   ],
   "source": [
    "# calculate the percentage of your 10th mark\n",
    "#FindPercent.percentage()\n",
    "#Subject1= 98\n",
    "#Subject2= 87\n",
    "#Subject3= 95\n",
    "#Subject4= 95\n",
    "#Subject5= 93\n",
    "#Total : 468\n",
    "#Percentage : 93.60000000000001\n",
    "    \n",
    "class FindPercent:\n",
    "    def percentage():\n",
    "        Sub1=(int(input(\"Subject1=\")))\n",
    "        Sub2=(int(input(\"Subject2=\")))\n",
    "        Sub3=(int(input(\"Subject3=\")))\n",
    "        Sub4=(int(input(\"Subject4=\")))\n",
    "        Sub5=(int(input(\"Subject5=\")))\n",
    "        total=(Sub1+Sub2+Sub3+Sub4+Sub5)\n",
    "        #total= (\"Total:\",scal)\n",
    "       # return total\n",
    "        print (\"Total:\",total)\n",
    "        percent=(float((total/5)))\n",
    "        percent1= (\"{0:.14f}\".format(percent))\n",
    "        #print(\"percentage:\", percent1)\n",
    "        percent2=(\"Percentage:\", percent1)\n",
    "        return percent2\n",
    "        \n",
    "FindPercent.percentage()"
   ]
  },
  {
   "cell_type": "code",
   "execution_count": 58,
   "metadata": {},
   "outputs": [
    {
     "name": "stdout",
     "output_type": "stream",
     "text": [
      "Height:32\n",
      "Breadth:34\n",
      "Area of Triangle: 544.0\n",
      "Height1:2\n",
      "Height2:4\n",
      "Breadth:4\n",
      "Perimeter of Triangle: 10\n"
     ]
    }
   ],
   "source": [
    "#print area and perimeter of triangle using class and functions\n",
    "#triangle.triangle()\n",
    "#Height:32\n",
    "#Breadth:34\n",
    "#Area formula: (Height*Breadth)/2\n",
    "#Area of Triangle: 544.0\n",
    "#Height1:2\n",
    "#Height2:4\n",
    "#Breadth:4\n",
    "#Perimeter formula: Height1+Height2+Breadth\n",
    "#Perimeter of Triangle: 10\n",
    "\n",
    "class triangle:\n",
    "    def triangle():\n",
    "        H=int(input(\"Height:\"))\n",
    "        B=int(input('Breadth:'))\n",
    "        Area=(H*B)/2\n",
    "        print('Area of Triangle:',Area)\n",
    "        H1=int(input('Height1:'))\n",
    "        H2=int(input('Height2:'))\n",
    "        H3=int(input('Breadth:'))\n",
    "        perimeter=H1+H2+H3\n",
    "        print('Perimeter of Triangle:',perimeter)\n",
    "\n",
    "triangle.triangle()\n",
    "\n",
    "        "
   ]
  },
  {
   "cell_type": "code",
   "execution_count": null,
   "metadata": {},
   "outputs": [],
   "source": []
  }
 ],
 "metadata": {
  "kernelspec": {
   "display_name": "Python 3",
   "language": "python",
   "name": "python3"
  },
  "language_info": {
   "codemirror_mode": {
    "name": "ipython",
    "version": 3
   },
   "file_extension": ".py",
   "mimetype": "text/x-python",
   "name": "python",
   "nbconvert_exporter": "python",
   "pygments_lexer": "ipython3",
   "version": "3.7.4"
  }
 },
 "nbformat": 4,
 "nbformat_minor": 2
}
